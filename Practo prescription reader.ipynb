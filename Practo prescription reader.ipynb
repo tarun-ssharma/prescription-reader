{
 "cells": [
  {
   "cell_type": "code",
   "execution_count": 1,
   "metadata": {},
   "outputs": [
    {
     "name": "stdout",
     "output_type": "stream",
     "text": [
      "Requirement already satisfied: pytesseract in /home/tarun/.pyenv/versions/3.7.4/lib/python3.7/site-packages (0.3.6)\r\n",
      "Requirement already satisfied: Pillow in /home/tarun/.pyenv/versions/3.7.4/lib/python3.7/site-packages (from pytesseract) (7.2.0)\r\n"
     ]
    }
   ],
   "source": [
    "!pip install pytesseract"
   ]
  },
  {
   "cell_type": "code",
   "execution_count": 2,
   "metadata": {},
   "outputs": [
    {
     "name": "stdout",
     "output_type": "stream",
     "text": [
      "Requirement already satisfied: selenium in /home/tarun/.pyenv/versions/3.7.4/lib/python3.7/site-packages (3.141.0)\r\n",
      "Requirement already satisfied: urllib3 in /home/tarun/.pyenv/versions/3.7.4/lib/python3.7/site-packages (from selenium) (1.25.10)\r\n"
     ]
    }
   ],
   "source": [
    "!pip install selenium"
   ]
  },
  {
   "cell_type": "code",
   "execution_count": 3,
   "metadata": {},
   "outputs": [],
   "source": [
    "import cv2\n",
    "import pytesseract\n",
    "from PIL import Image\n",
    "import re\n",
    "from selenium import webdriver\n",
    "import os\n",
    "from selenium.webdriver.support.ui import WebDriverWait\n",
    "from selenium.webdriver.common.desired_capabilities import DesiredCapabilities\n",
    "from selenium.webdriver.support import expected_conditions as EC\n",
    "from selenium.webdriver.common.by import By"
   ]
  },
  {
   "cell_type": "code",
   "execution_count": 4,
   "metadata": {},
   "outputs": [
    {
     "name": "stdout",
     "output_type": "stream",
     "text": [
      "-------\n",
      " \n",
      "\n",
      " \n",
      "\n",
      "Dr. Sasha Raikhy\n",
      "MBBS, DNB - Psychiatry\n",
      "Medical Registration Number: 72759\n",
      "\n",
      "Positive Vibes, 82/20 Near Mahendra showroom, Safdarjung\n",
      "Enclave, Delhi\n",
      "\n",
      "Contact: https:/iwww_practo.com/consultidirect/chat-support\n",
      "\n",
      "Tarun Sharma Prescription Id: 684462\n",
      "24 yrs, Male ‘08/08/2020\n",
      "Medicines\n",
      "\n",
      "Prodep 20 Capsule\n",
      "1—0—0\n",
      "Dally after food, for 9 Days\n",
      "\n",
      "Clonazepam (0.25 mg) Tablet MD\n",
      "o—o—1\n",
      "Dally after food, for 9 Days\n",
      "\n",
      " \n",
      "\n",
      "7\n",
      "\n",
      "Doctor's Signature\n",
      "08/08/2020\n",
      "\n",
      "epractoe\n",
      "\n",
      " \n",
      "\n",
      " \n",
      "\f",
      "\n",
      "{}\n"
     ]
    }
   ],
   "source": [
    "image = cv2.imread('Psych_prescription.jpeg')\n",
    "img = cv2.cvtColor(image, cv2.COLOR_BGR2GRAY)\n",
    "#print(pytesseract.image_to_string(img))\n",
    "\n",
    "blur = cv2.GaussianBlur(img,(5,5),0)\n",
    "ret,th = cv2.threshold(blur,0,255,cv2.THRESH_BINARY + cv2.THRESH_OTSU)\n",
    "size_structuring_element = 10\n",
    "rect_kernel = cv2.getStructuringElement(cv2.MORPH_RECT, (size_structuring_element, size_structuring_element))\n",
    "dilation = cv2.dilate(th, rect_kernel, iterations = 1) \n",
    "contours, hierarchy = cv2.findContours(dilation, cv2.RETR_LIST,  \n",
    "                                                 cv2.CHAIN_APPROX_NONE)\n",
    "meds = {}\n",
    "  \n",
    "# Looping through the identified contours \n",
    "# Then rectangular part is cropped and passed on \n",
    "# to pytesseract for extracting text from it \n",
    "# Extracted text is then written into the text file \n",
    "im2 = img.copy()\n",
    "for cnt in contours:\n",
    "    x, y, w, h = cv2.boundingRect(cnt)\n",
    "      \n",
    "    # Drawing a rectangle on copied image \n",
    "    rect = cv2.rectangle(im2, (x, y), (x + w, y + h), (0, 255, 0), 2) \n",
    "      \n",
    "    # Cropping the text block for giving input to OCR \n",
    "    cropped = im2[y:y + h, x:x + w] \n",
    "      \n",
    "    # Apply OCR on the cropped image \n",
    "    text = pytesseract.image_to_string(cropped)\n",
    "    print('-------')\n",
    "    print(text)\n",
    "\n",
    "print(meds)"
   ]
  },
  {
   "cell_type": "code",
   "execution_count": 5,
   "metadata": {},
   "outputs": [
    {
     "name": "stdout",
     "output_type": "stream",
     "text": [
      "{'Prodep 20 Capsule': ['1—0—0', 'Dally after food, for 9 Days'], '‘Clonazepam (0.25 mg) Tablet MD': ['o—o—1', 'Dally after food, for 9 Days']}\n"
     ]
    }
   ],
   "source": [
    "text = pytesseract.image_to_string(img, lang='eng', config='--psm 11') \n",
    "is_next_med = 0\n",
    "\n",
    "meds = {}\n",
    "current_med = ''\n",
    "for line in text.split('\\n'): \n",
    "    if(line.strip().lower() == 'medicines'):\n",
    "        is_next_med = 1\n",
    "    elif(is_next_med == 1 and line.replace(' ','')!=''):\n",
    "        meds[line] = []\n",
    "        current_med = line\n",
    "        is_next_med += 1\n",
    "    elif(is_next_med == 2 and line.replace(' ','')!=''):\n",
    "        found = re.search(\".*[—].*[—].*\", line)\n",
    "        if found is None:\n",
    "            # This means we have read all the meds already!\n",
    "            meds.pop(current_med, None)\n",
    "            break\n",
    "        meds[current_med].append(line)\n",
    "        is_next_med += 1\n",
    "    elif(is_next_med == 3 and line.replace(' ','')!=''):\n",
    "        meds[current_med].append(line)\n",
    "        is_next_med = 1\n",
    "\n",
    "print(meds)"
   ]
  },
  {
   "cell_type": "code",
   "execution_count": null,
   "metadata": {},
   "outputs": [],
   "source": [
    "# Aim: Add to my cart on 1mg\n",
    "cap = DesiredCapabilities.CHROME\n",
    "cap['chrome.switches'] = ['--disable-local-storage']\n",
    "options = webdriver.ChromeOptions()\n",
    "options.add_argument(\"--user-data-dir=/home/tarun/.config/google-chrome/Default\")\n",
    "options.add_argument(\"--disable-extensions\")\n",
    "options.add_argument(\"--incognito\");\n",
    "options.add_experimental_option('prefs', {\n",
    "    'geolocation': False\n",
    "})\n",
    "options.add_argument(\"--set-headless\")\n",
    "options.add_argument(\"--enable-strict-powerful-feature-restrictions\")\n",
    "chrome_driver =os.getcwd() + '/chromedriver'\n",
    "os.environ[\"webdriver.chrome.driver\"] = chrome_driver\n",
    "driver = webdriver.Chrome(executable_path=chrome_driver,options=options, desired_capabilities=cap)\n",
    "\n",
    "# step1: login\n",
    "driver.get('https://www.1mg.com/')\n",
    "# Find anchor tag with child span's text == Login, click on it\n",
    "wait = WebDriverWait(driver, 10)\n",
    "wait.until(EC.visibility_of_element_located((By.XPATH,\"//a[.//span[text()='Login']]\")))\n",
    "login_button = driver.find_element_by_xpath(\"//a[.//span[text()='Login']]\")\n",
    "login_button.click()\n",
    "wait = WebDriverWait(driver, 10)\n",
    "wait.until(EC.presence_of_element_located((By.XPATH,\"//label[text()='Enter Email ID or Mobile Number']\")))\n",
    "# Find label with text = 'Enter Email ID or Mobile Number', select its sibling div ka input tag, send keys\n",
    "phone_input = driver.find_element_by_xpath(\"//label[text()='Enter Email ID or Mobile Number']/following-sibling::div/input\")\n",
    "phone_input.send_keys(7993267390)\n",
    "# Find span with text 'SEND OTP', and click on its parent anchor\n",
    "\n",
    "wait = WebDriverWait(driver, 10)\n",
    "wait.until(EC.visibility_of_element_located((By.XPATH,\"//a[//span[text()='SEND OTP']]\")))\n",
    "\n",
    "phone_submit = driver.find_element_by_xpath(\"//a[//span[text()='SEND OTP']]\")\n",
    "phone_submit.click()\n",
    "\n",
    "wait = WebDriverWait(driver, 10)\n",
    "wait.until(EC.presence_of_element_located((By.XPATH,\"//label[text()='One Time Password']\")))\n",
    "# Find label with text = 'One Time Password', select its sibling div ka input tag, ask user for otp input, send keys\n",
    "otp_input = driver.find_element_by_xpath(\"//label[text()='One Time Password']/following-sibling::div/input\")\n",
    "# val = input('Enter OTP sent to your phone:')\n",
    "# otp_input.send_keys(int(val))\n",
    "\n",
    "# wait = WebDriverWait(driver, 10)\n",
    "# wait.until(EC.element_to_be_clickable((By.XPATH,\"//a[//span[text()='DONE']]\")))\n",
    "\n",
    "# otp_submit = driver.find_element_by_xpath(\"//a[//span[text()='DONE']]\")\n",
    "# otp_submit.click()\n",
    "wait = WebDriverWait(driver, 30)\n",
    "wait.until(EC.url_changes('https://www.1mg.com'))\n",
    "\n",
    "\n",
    "# search 1mg/other delivery services for these meds\n",
    "for med in meds:\n",
    "    # step2: search for med\n",
    "    driver.get(f'https://www.1mg.com/search/all?name={med}')\n",
    "    wait = WebDriverWait(driver, 10)\n",
    "    # Find first DIV with text ADD and click on that div\n",
    "    first_item = driver.find_element_by_xpath(\"//div[text()='ADD']\")\n",
    "    first_item.click()\n",
    "    \n",
    "# Step3: then logout\n",
    "driver.get('https://www.1mg.com/logout')\n",
    "driver.close()"
   ]
  }
 ],
 "metadata": {
  "kernelspec": {
   "display_name": "Python 3",
   "language": "python",
   "name": "python3"
  },
  "language_info": {
   "codemirror_mode": {
    "name": "ipython",
    "version": 3
   },
   "file_extension": ".py",
   "mimetype": "text/x-python",
   "name": "python",
   "nbconvert_exporter": "python",
   "pygments_lexer": "ipython3",
   "version": "3.7.4"
  }
 },
 "nbformat": 4,
 "nbformat_minor": 4
}
